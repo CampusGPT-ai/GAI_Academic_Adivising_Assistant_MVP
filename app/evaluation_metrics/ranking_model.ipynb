{
 "cells": [
  {
   "cell_type": "code",
   "execution_count": 1,
   "metadata": {},
   "outputs": [],
   "source": [
    "training_list1 = ['https://catalog.indianatech.edu/content.php?catoid=17&navoid=635#add-drop',\n",
    "'https://dining.indianatech.edu/',\n",
    "'https://dining.indianatech.edu/policies/',\n",
    "'https://dining.indianatech.edu/areas-hours/',\n",
    "'https://academics.indianatech.edu/programs/diversity-studies-certificate/',\n",
    "'https://www.indianatech.edu/wellness-clinic/counseling/',\n",
    "'https://www.indianatech.edu/wellness-clinic/crisis/',\n",
    "'https://housing.indianatech.edu/',\n",
    "'https://academics.indianatech.edu/academic-affairs/accreditation/',\n",
    "'https://academics.indianatech.edu/academic-affairs/irb/',\n",
    "'https://academics.indianatech.edu/colleges/arts-and-sciences/',\n",
    "'https://academics.indianatech.edu/programs/forensic-science-bs/',\n",
    "'https://admissions.indianatech.edu/promiseit/',\n",
    "'https://admissions.indianatech.edu/freshman-students/',\n",
    "'https://admissions.indianatech.edu/transfer/',\n",
    "'https://academics.indianatech.edu/programs/accounting-certificate/',\n",
    "'https://studentlife.indianatech.edu/get-involved/intramurals/policies/',\n",
    "'https://studentlife.indianatech.edu/get-involved/student-activities/',\n",
    "'https://www.indianatech.edu/homecoming-2024/',\n",
    "'https://online.indianatech.edu/support/locations/',\n",
    "'https://careercenter.indianatech.edu/internships/',\n",
    "'https://careercenter.indianatech.edu/students/traditional-undergraduate-services/',\n",
    "'https://careercenter.indianatech.edu/students/military-services/',\n",
    "'https://phd.indianatech.edu/program/dissertation/',\n",
    "'https://phd.indianatech.edu/program/travel/',\n",
    "'https://academics.indianatech.edu/pathways/certificates/',\n",
    "'https://registrar.indianatech.edu/calendars/undergrad/',\n",
    "'https://registrar.indianatech.edu/current-students/resources/enrollment-verifications/',\n",
    "'https://international.indianatech.edu/graduate/admissions-requirements/',\n",
    "'https://international.indianatech.edu/visa-immigration/',\n",
    "'https://alumni.indianatech.edu/events/',\n",
    "'https://safety.indianatech.edu/',\n",
    "'https://safety.indianatech.edu/crisis-management-plan/',\n",
    "'https://safety.indianatech.edu/crisis-management-plan/shelter-secure-and-lockdown-situations-how-to-respond/']"
   ]
  },
  {
   "cell_type": "code",
   "execution_count": 2,
   "metadata": {},
   "outputs": [
    {
     "name": "stdout",
     "output_type": "stream",
     "text": [
      "609\n"
     ]
    }
   ],
   "source": [
    "import pandas as pd \n",
    "from data.models import WebPageDocumentNew\n",
    "from settings.settings import Settings\n",
    "df1 = pd.read_csv('/Users/marynelson/GAI_Academic_Advising_Assistant_MVP/app/evaluation_metrics/itech_processed.csv')\n",
    "import math \n",
    "\n",
    "settings = Settings()\n",
    "from mongoengine import connect, disconnect\n",
    "import mongoengine.connection\n",
    "\n",
    "\n",
    "db_name = settings.MONGO_DB\n",
    "db_conn = settings.MONGO_CONN_STR\n",
    "\n",
    "_connect = connect(db_name, host=db_conn)\n",
    "\n",
    "documents = WebPageDocumentNew.objects.all()\n",
    "\n",
    "documents_list = []\n",
    "for doc in documents:\n",
    "    documents_list.append(doc._data)\n",
    "\n",
    "print(len(documents_list))\n"
   ]
  },
  {
   "cell_type": "code",
   "execution_count": null,
   "metadata": {},
   "outputs": [],
   "source": []
  },
  {
   "cell_type": "code",
   "execution_count": null,
   "metadata": {},
   "outputs": [],
   "source": [
    "df = pd.DataFrame(documents_list)\n",
    "\n",
    "# Select numeric columns\n",
    "numeric_columns = [\n",
    "    'days_since_modified', 'sentence_count', 'link_depth'\n",
    "]\n",
    "numeric_df = df[numeric_columns]\n",
    "\n",
    "df.head()\n"
   ]
  },
  {
   "cell_type": "code",
   "execution_count": null,
   "metadata": {},
   "outputs": [
    {
     "ename": "",
     "evalue": "",
     "output_type": "error",
     "traceback": [
      "\u001b[1;31mRunning cells with 'app-MeNZCdIE-py3.12' requires the ipykernel package.\n",
      "\u001b[1;31mRun the following command to install 'ipykernel' into the Python environment. \n",
      "\u001b[1;31mCommand: '/Users/marynelson/Library/Caches/pypoetry/virtualenvs/app-MeNZCdIE-py3.12/bin/python -m pip install ipykernel -U --force-reinstall'"
     ]
    }
   ],
   "source": [
    "import matplotlib.pyplot as plt\n",
    "# Plot histogram for the 'score' column\n",
    "dff = df[df['sentence_count']<5]\n",
    "dff['sentence_count'].hist(bins=10, edgecolor='black')\n",
    "\n",
    "# Add title and labels\n",
    "plt.title('Distribution of Scores')\n",
    "plt.xlabel('Score')\n",
    "plt.ylabel('Frequency')\n",
    "\n",
    "dff.value_counts('sentence_count')"
   ]
  },
  {
   "cell_type": "code",
   "execution_count": null,
   "metadata": {},
   "outputs": [],
   "source": [
    "# Remove duplicate rows based on column 'A'\n",
    "df_no_duplicates = df.drop_duplicates(subset=['source'])\n",
    "\n",
    "len(df_no_duplicates)"
   ]
  },
  {
   "cell_type": "code",
   "execution_count": null,
   "metadata": {},
   "outputs": [],
   "source": [
    "dff = dff.sort_values(by='sentence_count', ascending=True)\n",
    "\n",
    "dff['page_content'].to_list()"
   ]
  },
  {
   "cell_type": "code",
   "execution_count": null,
   "metadata": {},
   "outputs": [],
   "source": [
    "from sklearn.preprocessing import StandardScaler\n",
    "\n",
    "# Normalize the numeric features\n",
    "scaler = StandardScaler()\n",
    "normalized_features = scaler.fit_transform(numeric_df)"
   ]
  },
  {
   "cell_type": "code",
   "execution_count": null,
   "metadata": {},
   "outputs": [],
   "source": [
    "normalized_features[:5]"
   ]
  },
  {
   "cell_type": "code",
   "execution_count": null,
   "metadata": {},
   "outputs": [],
   "source": [
    "def is_training(url):\n",
    "    for item in training_list1:\n",
    "        if url == item:\n",
    "            return 1\n",
    "    return 0\n",
    "\n",
    "# Add a 'label' field to each document\n",
    "df['label'] = df['source'].apply(is_training)\n",
    "\n",
    "x = normalized_features\n",
    "y= df['label']\n",
    "\n",
    "y.head()\n",
    "\n",
    "df.value_counts('label')\n",
    "    "
   ]
  },
  {
   "cell_type": "code",
   "execution_count": null,
   "metadata": {},
   "outputs": [],
   "source": [
    "from sklearn.model_selection import train_test_split\n",
    "from sklearn.linear_model import LogisticRegression\n",
    "from sklearn.metrics import accuracy_score, roc_auc_score\n",
    "# Split into training and testing sets\n",
    "X_train, X_test, y_train, y_test, train_sources, test_sources = train_test_split(\n",
    "    x, y, df['source'], test_size=.2, random_state=42, stratify=y\n",
    ")\n"
   ]
  },
  {
   "cell_type": "code",
   "execution_count": null,
   "metadata": {},
   "outputs": [],
   "source": [
    "\n",
    "print(\"Label Distribution in Training Set:\")\n",
    "print(pd.Series(y_train).value_counts())\n",
    "\n",
    "print(\"Label Distribution in Testing Set:\")\n",
    "print(pd.Series(y_test).value_counts())\n",
    "\n",
    "# Train logistic regression model\n",
    "model = LogisticRegression()\n",
    "model.fit(X_train, y_train)\n",
    "\n",
    "# Predict on the test set\n",
    "y_pred = model.predict(X_test)\n",
    "y_pred_prob = model.predict_proba(X_test)[:, 1]\n",
    "\n",
    "# Evaluate the model\n",
    "accuracy = accuracy_score(y_test, y_pred)\n",
    "roc_auc = roc_auc_score(y_test, y_pred_prob)\n",
    "\n",
    "print(f'Accuracy: {accuracy:.2f}')\n",
    "print(f'ROC AUC: {roc_auc:.2f}')\n",
    "\n",
    "# Check predictions in the entire dataset\n",
    "df['predicted_prob_all'] = model.predict_proba(x)[:, 1]\n",
    "df['predicted_label_all'] = model.predict(x)\n",
    "\n",
    "print(\"Predicted Label Distribution in Entire Dataset:\")\n",
    "print(df['predicted_label_all'].value_counts())"
   ]
  },
  {
   "cell_type": "code",
   "execution_count": null,
   "metadata": {},
   "outputs": [],
   "source": [
    "\n",
    "# Train logistic regression model\n",
    "model = LogisticRegression()\n",
    "model.fit(X_train, y_train)"
   ]
  },
  {
   "cell_type": "code",
   "execution_count": null,
   "metadata": {},
   "outputs": [],
   "source": [
    "\n",
    "# Predict on test set\n",
    "y_pred = model.predict(X_test)\n",
    "y_pred_prob = model.predict_proba(X_test)[:, 1]\n"
   ]
  },
  {
   "cell_type": "code",
   "execution_count": null,
   "metadata": {},
   "outputs": [],
   "source": [
    "#predict all\n",
    "df['predicted_prob_all'] = model.predict_proba(normalized_features)[:,1]\n",
    "df['predicted_label_all'] = model.predict(normalized_features)\n",
    "df.head()\n",
    "\n"
   ]
  },
  {
   "cell_type": "code",
   "execution_count": null,
   "metadata": {},
   "outputs": [],
   "source": [
    "df.value_counts('predicted_label_all')"
   ]
  },
  {
   "cell_type": "code",
   "execution_count": null,
   "metadata": {},
   "outputs": [],
   "source": [
    "# Evaluate the model\n",
    "accuracy = accuracy_score(y_test, y_pred)\n",
    "roc_auc = roc_auc_score(y_test, y_pred_prob)\n",
    "\n",
    "print(f'Accuracy: {accuracy}')\n",
    "print(f'ROC AUC: {roc_auc}')"
   ]
  },
  {
   "cell_type": "code",
   "execution_count": null,
   "metadata": {},
   "outputs": [],
   "source": [
    "#include source information in the evaluation output\n",
    "evaluation_df = pd.DataFrame({\n",
    "    'source': test_sources,\n",
    "    'predicted_label': y_pred,\n",
    "    'predicted_prob': y_pred_prob,\n",
    "    'actual_label': y_test\n",
    "})\n",
    "\n",
    "# Sort the DataFrame by 'predicted_label' in descending order\n",
    "sorted_df = evaluation_df.sort_values(by='predicted_label', ascending=False)\n",
    "\n",
    "# Optionally, reset the index\n",
    "sorted_df = sorted_df.reset_index(drop=True)\n",
    "\n",
    "# Display the sorted DataFrame\n",
    "sorted_df.head()\n",
    "\n"
   ]
  },
  {
   "cell_type": "code",
   "execution_count": null,
   "metadata": {},
   "outputs": [],
   "source": [
    "sorted_df.value_counts('predicted_label')"
   ]
  }
 ],
 "metadata": {
  "kernelspec": {
   "display_name": "app-MeNZCdIE-py3.12",
   "language": "python",
   "name": "python3"
  },
  "language_info": {
   "codemirror_mode": {
    "name": "ipython",
    "version": 3
   },
   "file_extension": ".py",
   "mimetype": "text/x-python",
   "name": "python",
   "nbconvert_exporter": "python",
   "pygments_lexer": "ipython3",
   "version": "3.12.4"
  }
 },
 "nbformat": 4,
 "nbformat_minor": 2
}
