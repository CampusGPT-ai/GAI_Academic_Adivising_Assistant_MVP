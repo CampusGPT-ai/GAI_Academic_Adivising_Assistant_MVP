{
 "cells": [
  {
   "cell_type": "code",
   "execution_count": 1,
   "metadata": {},
   "outputs": [
    {
     "name": "stdout",
     "output_type": "stream",
     "text": [
      "(55, 103)\n"
     ]
    }
   ],
   "source": [
    "import json\n",
    "import pandas as pd \n",
    "\n",
    "df = pd.read_csv('/Users/marynelson/Downloads/dataset_website-content-crawler_2024-06-28_18-27-59-923.csv')\n",
    "\n",
    "# print(df1.shape)\n",
    "\n",
    "# Concatenate DataFrames\n",
    "# df = pd.concat([df1, df2, df3, df4, df5, df6], ignore_index=True)\n",
    "df.head()\n",
    "print(df.shape)\n"
   ]
  },
  {
   "cell_type": "code",
   "execution_count": 2,
   "metadata": {},
   "outputs": [
    {
     "name": "stdout",
     "output_type": "stream",
     "text": [
      "(55, 104)\n"
     ]
    }
   ],
   "source": [
    "from datetime import datetime\n",
    "# Function to calculate time since modified date\n",
    "def time_since_modified(modified_date_str):\n",
    "    if not isinstance(modified_date_str, str):\n",
    "        return None\n",
    "    if isinstance(modified_date_str, str):\n",
    "        modified_date = datetime.strptime(modified_date_str, \"%Y-%m-%dT%H:%M:%S%z\")\n",
    "        current_date = datetime.now(modified_date.tzinfo)  # Ensure the same timezone\n",
    "        time_difference = current_date - modified_date\n",
    "        return time_difference.days\n",
    "\n",
    "# Apply function to the DataFrame\n",
    "df['days_since_modified'] = df['metadata/jsonLd/0/@graph/0/dateModified'].apply(lambda x: time_since_modified(x))\n",
    "\n",
    "\n",
    "print(df.shape)"
   ]
  },
  {
   "cell_type": "code",
   "execution_count": null,
   "metadata": {},
   "outputs": [],
   "source": []
  },
  {
   "cell_type": "code",
   "execution_count": 3,
   "metadata": {},
   "outputs": [
    {
     "data": {
      "image/png": "[encoded data removed]",
      "text/plain": [
       "<Figure size 1000x600 with 1 Axes>"
      ]
     },
     "metadata": {},
     "output_type": "display_data"
    }
   ],
   "source": [
    "import matplotlib.pyplot as plt\n",
    "\n",
    "# Plot histogram\n",
    "plt.figure(figsize=(10, 6))\n",
    "plt.hist(df['days_since_modified'], bins=30, edgecolor='black')\n",
    "plt.title('Histogram of Days Since Modified')\n",
    "plt.xlabel('Days Since Modified')\n",
    "plt.ylabel('Frequency')\n",
    "plt.grid(True)\n",
    "plt.show()"
   ]
  },
  {
   "cell_type": "markdown",
   "metadata": {},
   "source": []
  },
  {
   "cell_type": "code",
   "execution_count": 4,
   "metadata": {},
   "outputs": [
    {
     "name": "stdout",
     "output_type": "stream",
     "text": [
      "(55, 112)\n"
     ]
    }
   ],
   "source": [
    "import re\n",
    "# Function to calculate content metrics\n",
    "def calculate_content_metrics(markdown):\n",
    "        # Replace URLs with a placeholder\n",
    "    url_placeholder = \"URL_PLACEHOLDER\"\n",
    "    urls = re.findall(r'https?://[^\\s]+', markdown)\n",
    "    for url in urls:\n",
    "        markdown = markdown.replace(url, url_placeholder)\n",
    "        \n",
    "    word_count = len(markdown.split())\n",
    "    sentence_count = len(re.split(r'[.!?]+', markdown))\n",
    "    char_count = len(markdown)\n",
    "    average_word_length = sum(len(word) for word in markdown.split()) / word_count\n",
    "    average_sentence_length = word_count / sentence_count if sentence_count else 0\n",
    "    header_count = markdown.count('#')\n",
    "    list_count = len(re.findall(r'^[*-]\\s', markdown, re.MULTILINE))\n",
    "    link_count = len(re.findall(r'\\[.*?\\]\\(.*?\\)', markdown))\n",
    "    return pd.Series([word_count, sentence_count, char_count, average_word_length, average_sentence_length, header_count, list_count, link_count])\n",
    "# Apply function to the DataFrame\n",
    "df[['word_count', 'sentence_count', 'char_count', 'average_word_length', 'average_sentence_length', 'header_count', 'list_count', 'link_count']] = df['markdown'].apply(calculate_content_metrics)\n",
    "print(df.shape)"
   ]
  },
  {
   "cell_type": "code",
   "execution_count": 5,
   "metadata": {},
   "outputs": [
    {
     "name": "stdout",
     "output_type": "stream",
     "text": [
      "55\n"
     ]
    }
   ],
   "source": [
    "df = df.sort_values(by='days_since_modified', ascending=False)\n",
    "print(len(df))"
   ]
  },
  {
   "cell_type": "code",
   "execution_count": 6,
   "metadata": {},
   "outputs": [],
   "source": [
    "def sentence_count_class(sc):\n",
    "    if sc < 5:\n",
    "        return 0\n",
    "    elif sc < 20:\n",
    "        return 1\n",
    "    elif sc > 50:\n",
    "        return 2\n",
    "    else:\n",
    "        return 0\n",
    "    \n",
    "df['sentence_count_class'] = df['sentence_count'].apply(sentence_count_class)\n"
   ]
  },
  {
   "cell_type": "code",
   "execution_count": 7,
   "metadata": {},
   "outputs": [],
   "source": [
    "def age_class(age):\n",
    "    if age < 365:\n",
    "        return 2\n",
    "    elif age < 720:\n",
    "        return 1\n",
    "    else:\n",
    "        return 0\n",
    "    \n",
    "df['age_class'] = df['days_since_modified'].apply(age_class)"
   ]
  },
  {
   "cell_type": "code",
   "execution_count": 8,
   "metadata": {},
   "outputs": [
    {
     "name": "stdout",
     "output_type": "stream",
     "text": [
      "(55, 114)\n"
     ]
    }
   ],
   "source": [
    "# Drop duplicates, keeping the first occurrence and removing subsequent duplicates\n",
    "df= df.drop_duplicates(subset=['markdown'], keep='first')\n",
    "\n",
    "# Display the DataFrame without duplicates\n",
    "df.head()\n",
    "print(df.shape)"
   ]
  },
  {
   "cell_type": "code",
   "execution_count": 10,
   "metadata": {},
   "outputs": [
    {
     "name": "stdout",
     "output_type": "stream",
     "text": [
      "(55, 118)\n"
     ]
    }
   ],
   "source": [
    "import tldextract\n",
    "from urllib.parse import urlparse\n",
    "\n",
    "def extract_parts(url):\n",
    "    extracted = tldextract.extract(url)\n",
    "    subdomain = extracted.subdomain if extracted.domain == \"indianatech\" and extracted.suffix == \"edu\" else None\n",
    "\n",
    "    # Extract the first path item\n",
    "    parsed_url = urlparse(url)\n",
    "    path_parts = parsed_url.path.strip('/').split('/')\n",
    "    first_path_item = path_parts[0] if path_parts else None\n",
    "    second_path_item = path_parts[1] if len(path_parts) > 1 else None\n",
    "    link_depth = len(path_parts)\n",
    "    \n",
    "    return pd.Series([subdomain, first_path_item, second_path_item, link_depth])\n",
    "\n",
    "# Apply function to the DataFrame\n",
    "df[['subdomain', 'first_path_item', 'second_path_item', 'link_depth']] = df['metadata/canonicalUrl'].apply(lambda x: extract_parts(x))\n",
    "\n",
    "# Display the updated DataFrame\n",
    "df.head()\n",
    "print(df.shape)"
   ]
  },
  {
   "cell_type": "code",
   "execution_count": 11,
   "metadata": {},
   "outputs": [],
   "source": [
    "def link_depth_class(link_depth):\n",
    "    if link_depth < 2:\n",
    "        return 2\n",
    "    elif link_depth == 2:\n",
    "        return 1\n",
    "    elif link_depth> 2:\n",
    "        return 0\n",
    "    else:\n",
    "        return 0\n",
    "    \n",
    "df['link_depth_class'] = df['link_depth'].apply(link_depth_class)"
   ]
  },
  {
   "cell_type": "code",
   "execution_count": 12,
   "metadata": {},
   "outputs": [
    {
     "name": "stdout",
     "output_type": "stream",
     "text": [
      "['markdown', 'metadata/author', 'metadata/canonicalUrl', 'metadata/description', 'metadata/headers/access-control-allow-origin', 'metadata/headers/cache-control', 'metadata/headers/connection', 'metadata/headers/content-encoding', 'metadata/headers/content-length', 'metadata/headers/content-type', 'metadata/headers/date', 'metadata/headers/etag', 'metadata/headers/link', 'metadata/headers/server', 'metadata/headers/strict-transport-security', 'metadata/headers/transfer-encoding', 'metadata/headers/vary', 'metadata/headers/x-firefox-spdy', 'metadata/jsonLd/0/@context', 'metadata/jsonLd/0/@graph/0/@id', 'metadata/jsonLd/0/@graph/0/@type', 'metadata/jsonLd/0/@graph/0/breadcrumb/@id', 'metadata/jsonLd/0/@graph/0/dateModified', 'metadata/jsonLd/0/@graph/0/datePublished', 'metadata/jsonLd/0/@graph/0/description', 'metadata/jsonLd/0/@graph/0/image/@id', 'metadata/jsonLd/0/@graph/0/inLanguage', 'metadata/jsonLd/0/@graph/0/isPartOf/@id', 'metadata/jsonLd/0/@graph/0/name', 'metadata/jsonLd/0/@graph/0/potentialAction/0/@type', 'metadata/jsonLd/0/@graph/0/potentialAction/0/target/0', 'metadata/jsonLd/0/@graph/0/primaryImageOfPage/@id', 'metadata/jsonLd/0/@graph/0/thumbnailUrl', 'metadata/jsonLd/0/@graph/0/url', 'metadata/jsonLd/0/@graph/1/@id', 'metadata/jsonLd/0/@graph/1/@type', 'metadata/jsonLd/0/@graph/1/caption', 'metadata/jsonLd/0/@graph/1/contentUrl', 'metadata/jsonLd/0/@graph/1/description', 'metadata/jsonLd/0/@graph/1/height', 'metadata/jsonLd/0/@graph/1/inLanguage', 'metadata/jsonLd/0/@graph/1/itemListElement/0/@type', 'metadata/jsonLd/0/@graph/1/itemListElement/0/item', 'metadata/jsonLd/0/@graph/1/itemListElement/0/name', 'metadata/jsonLd/0/@graph/1/itemListElement/0/position', 'metadata/jsonLd/0/@graph/1/itemListElement/1/@type', 'metadata/jsonLd/0/@graph/1/itemListElement/1/item', 'metadata/jsonLd/0/@graph/1/itemListElement/1/name', 'metadata/jsonLd/0/@graph/1/itemListElement/1/position', 'metadata/jsonLd/0/@graph/1/itemListElement/2/@type', 'metadata/jsonLd/0/@graph/1/itemListElement/2/item', 'metadata/jsonLd/0/@graph/1/itemListElement/2/name', 'metadata/jsonLd/0/@graph/1/itemListElement/2/position', 'metadata/jsonLd/0/@graph/1/itemListElement/3/@type', 'metadata/jsonLd/0/@graph/1/itemListElement/3/name', 'metadata/jsonLd/0/@graph/1/itemListElement/3/position', 'metadata/jsonLd/0/@graph/1/name', 'metadata/jsonLd/0/@graph/1/potentialAction/0/@type', 'metadata/jsonLd/0/@graph/1/potentialAction/0/query-input', 'metadata/jsonLd/0/@graph/1/potentialAction/0/target/@type', 'metadata/jsonLd/0/@graph/1/potentialAction/0/target/urlTemplate', 'metadata/jsonLd/0/@graph/1/url', 'metadata/jsonLd/0/@graph/1/width', 'metadata/jsonLd/0/@graph/2/@id', 'metadata/jsonLd/0/@graph/2/@type', 'metadata/jsonLd/0/@graph/2/description', 'metadata/jsonLd/0/@graph/2/inLanguage', 'metadata/jsonLd/0/@graph/2/itemListElement/0/@type', 'metadata/jsonLd/0/@graph/2/itemListElement/0/item', 'metadata/jsonLd/0/@graph/2/itemListElement/0/name', 'metadata/jsonLd/0/@graph/2/itemListElement/0/position', 'metadata/jsonLd/0/@graph/2/itemListElement/1/@type', 'metadata/jsonLd/0/@graph/2/itemListElement/1/item', 'metadata/jsonLd/0/@graph/2/itemListElement/1/name', 'metadata/jsonLd/0/@graph/2/itemListElement/1/position', 'metadata/jsonLd/0/@graph/2/itemListElement/2/@type', 'metadata/jsonLd/0/@graph/2/itemListElement/2/name', 'metadata/jsonLd/0/@graph/2/itemListElement/2/position', 'metadata/jsonLd/0/@graph/2/name', 'metadata/jsonLd/0/@graph/2/potentialAction/0/@type', 'metadata/jsonLd/0/@graph/2/potentialAction/0/query-input', 'metadata/jsonLd/0/@graph/2/potentialAction/0/target/@type', 'metadata/jsonLd/0/@graph/2/potentialAction/0/target/urlTemplate', 'metadata/jsonLd/0/@graph/2/url', 'metadata/jsonLd/0/@graph/3/@id', 'metadata/jsonLd/0/@graph/3/@type', 'metadata/jsonLd/0/@graph/3/description', 'metadata/jsonLd/0/@graph/3/inLanguage', 'metadata/jsonLd/0/@graph/3/name', 'metadata/jsonLd/0/@graph/3/potentialAction/0/@type', 'metadata/jsonLd/0/@graph/3/potentialAction/0/query-input', 'metadata/jsonLd/0/@graph/3/potentialAction/0/target/@type', 'metadata/jsonLd/0/@graph/3/potentialAction/0/target/urlTemplate', 'metadata/jsonLd/0/@graph/3/url', 'metadata/keywords', 'metadata/languageCode', 'metadata/openGraph/0/content', 'metadata/openGraph/0/property', 'metadata/openGraph/1/content', 'metadata/openGraph/1/property', 'metadata/openGraph/2/content', 'metadata/openGraph/2/property', 'metadata/title', 'days_since_modified', 'word_count', 'sentence_count', 'char_count', 'average_word_length', 'average_sentence_length', 'header_count', 'list_count', 'link_count', 'sentence_count_class', 'age_class', 'subdomain', 'first_path_item', 'second_path_item', 'link_depth', 'link_depth_class']\n"
     ]
    }
   ],
   "source": [
    "# List all columns\n",
    "columns = df.columns.tolist()\n",
    "print(columns)"
   ]
  },
  {
   "cell_type": "code",
   "execution_count": 13,
   "metadata": {},
   "outputs": [
    {
     "name": "stdout",
     "output_type": "stream",
     "text": [
      "(56, 119)\n"
     ]
    }
   ],
   "source": [
    "import tiktoken\n",
    "\n",
    "def split_markdown_content(df, token_limit=5000, overlap_ratio=0.2):\n",
    "    # Initialize the tokenizer\n",
    "    enc = tiktoken.get_encoding('cl100k_base')  # Use the appropriate encoding\n",
    "\n",
    "    def split_content(content):\n",
    "        tokens = enc.encode(content)\n",
    "        token_count = len(tokens)\n",
    "\n",
    "        if token_count <= token_limit:\n",
    "            return [content]\n",
    "\n",
    "        chunk_size = int(token_limit * (1 - overlap_ratio))\n",
    "        overlap_size = int(token_limit * overlap_ratio)\n",
    "        chunks = []\n",
    "\n",
    "        start = 0\n",
    "        while start < token_count:\n",
    "            end = start + token_limit\n",
    "            chunk_tokens = tokens[start:end]\n",
    "            chunk_text = enc.decode(chunk_tokens)\n",
    "            chunks.append(chunk_text)\n",
    "            start += chunk_size\n",
    "\n",
    "        return chunks\n",
    "\n",
    "    new_rows = []\n",
    "    for _, row in df.iterrows():\n",
    "        markdown_content = row['markdown']\n",
    "        chunks = split_content(markdown_content)\n",
    "        for chunk in chunks:\n",
    "            new_row = row.copy()\n",
    "            new_row['markdown'] = chunk\n",
    "            new_rows.append(new_row)\n",
    "\n",
    "    new_df = pd.DataFrame(new_rows)\n",
    "    return new_df\n",
    "\n",
    "df = split_markdown_content(df)\n",
    "print(df.shape)"
   ]
  },
  {
   "cell_type": "code",
   "execution_count": 14,
   "metadata": {},
   "outputs": [
    {
     "name": "stdout",
     "output_type": "stream",
     "text": [
      "(56, 119)\n"
     ]
    }
   ],
   "source": [
    "# Exporting DataFrame to a CSV file\n",
    "print(df.shape)\n",
    "df.to_csv('itech_processed.csv', index=False)"
   ]
  }
 ],
 "metadata": {
  "kernelspec": {
   "display_name": "Python 3",
   "language": "python",
   "name": "python3"
  },
  "language_info": {
   "codemirror_mode": {
    "name": "ipython",
    "version": 3
   },
   "file_extension": ".py",
   "mimetype": "text/x-python",
   "name": "python",
   "nbconvert_exporter": "python",
   "pygments_lexer": "ipython3",
   "version": "3.12.4"
  }
 },
 "nbformat": 4,
 "nbformat_minor": 2
}
